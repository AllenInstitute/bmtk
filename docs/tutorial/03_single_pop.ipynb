{
 "cells": [
  {
   "cell_type": "markdown",
   "metadata": {},
   "source": [
    "# Chapter 3: Multi-cell, single population network (with BioNet)\n",
    "\n",
    "In this tutorial, we will create a more complex network that contains multiple biophysical cells, but all of them having the same cell-type (we will cover hetergenous networks in the next tutorial). The network will contain recurrent connections, as well as external input that provide the next with stimululation.\n",
    "\n",
    "**Note** - scripts and files for running this tutorial can be found in the directory [sources/chapter03/](sources/chapter03)\n",
    "\n",
    "requirements:\n",
    "* bmtk\n",
    "* NEURON 7.4"
   ]
  },
  {
   "cell_type": "markdown",
   "metadata": {},
   "source": [
    "## 1. Building the Network\n",
    "\n",
    "First we will build our internal network, which consists of 100 different cells. All the cells are of the same type (we'll show how to build a heterogeneous network in the next tutorial), however they all have a different location and y-axis rotation.\n",
    "\n",
    "#### nodes "
   ]
  },
  {
   "cell_type": "code",
   "execution_count": 1,
   "metadata": {},
   "outputs": [],
   "source": [
    "import numpy as np\n",
    "from bmtk.builder.networks import NetworkBuilder\n",
    "from bmtk.builder.aux.node_params import positions_columinar, xiter_random\n",
    "\n",
    "cortex = NetworkBuilder('mcortex')\n",
    "cortex.add_nodes(N=100,\n",
    "                 pop_name='Scnn1a',\n",
    "                 positions=positions_columinar(N=100, center=[0, 50.0, 0], max_radius=30.0, height=100.0),\n",
    "                 rotation_angle_yaxis=xiter_random(N=100, min_x=0.0, max_x=2*np.pi),\n",
    "                 rotation_angle_zaxis=3.646878266,\n",
    "                 potental='exc',\n",
    "                 model_type='biophysical',\n",
    "                 model_template='ctdb:Biophys1.hoc',\n",
    "                 model_processing='aibs_perisomatic',\n",
    "                 dynamics_params='472363762_fit.json',\n",
    "                 morphology='Scnn1a_473845048_m.swc')\n"
   ]
  },
  {
   "cell_type": "markdown",
   "metadata": {},
   "source": [
    "The parameter N is used to indicate the number of cells in our population. The positions of each cell is defined by the columinar built-in method, which will random place our cells in a column (users can define their own positions as shown here). The rotation_angel_yaxis is similarl defined by a built-in function that will randomly assign each cell a given y angle.\n",
    "\n",
    "One thing to note is that while yaxis is defined by a function which returns a lists of values, the zaxis is defined by a single value. This means that all cells will share the zaxis. we could alteratively give all cells the same y-axis rotation:\n",
    "```python\n",
    "    rotation_angle_yaxis=rotation_value\n",
    "```\n",
    "or give all cells a unique z-rotation angle\n",
    "```python\n",
    "    rotation_angle_zaxis=xiter_random(N=100, min_x=0.0, max_x=2*np.pi)\n",
    "```\n",
    "and in general, it is at the discretion of the modeler to choose what parameters are unqiue to each cell, and what parameters are global to the cell-type."
   ]
  },
  {
   "cell_type": "markdown",
   "metadata": {},
   "source": [
    "#### edges\n",
    "\n",
    "Next we want to add recurrent edges. To create the connections we will use the built-in distance_connector function, which will assign the number of connections between two cells randomly (between range nsyn_min and nsysn_max) but weighted by distance. The other parameters, including the synaptic model (AMPA_ExcToExc) will be shared by all connections.\n",
    "\n",
    "To use this, or even customized, connection functions, we must pass in the name of our connection function using the \"connection_rule\" parameter, and the function parameters through \"connection_params\" as a dictionary, which will looks something like:\n",
    "```python\n",
    "    connection_rule=<name_of_function>\n",
    "    connection_params={'param_arg1': val1, 'param_arg2': val2, ...}\n",
    "```\n",
    "The connection_rule method isn't explicitly called by the script. Rather when the build() method is called, the connection_rule will iterate through every source/target node pair, and use the rule and build a connection matrix.\n",
    "\n",
    "\n",
    "After building the connections based on our connection function, we will save the nodes and edges files into the network/ directory."
   ]
  },
  {
   "cell_type": "code",
   "execution_count": 2,
   "metadata": {
    "collapsed": true
   },
   "outputs": [],
   "source": [
    "from bmtk.builder.aux.edge_connectors import distance_connector\n",
    "\n",
    "cortex.add_edges(source={'pop_name': 'Scnn1a'}, target={'pop_name': 'Scnn1a'},\n",
    "                 connection_rule=distance_connector,\n",
    "                 connection_params={'d_weight_min': 0.0, 'd_weight_max': 0.34, 'd_max': 50.0, 'nsyn_min': 0, 'nsyn_max': 10},\n",
    "                 syn_weight=2.0e-04,\n",
    "                 distance_range=[30.0, 150.0],\n",
    "                 target_sections=['basal', 'apical', 'soma'],\n",
    "                 delay=2.0,\n",
    "                 dynamics_params='AMPA_ExcToExc.json',\n",
    "                 model_template='exp2syn')\n",
    "\n",
    "cortex.build()\n",
    "cortex.save_nodes(output_dir='network')\n",
    "cortex.save_edges(output_dir='network')"
   ]
  },
  {
   "cell_type": "markdown",
   "metadata": {},
   "source": [
    "### External network\n",
    "\n",
    "After building our internal network, we will build the external thalamic network which will provide input (see previous tutorial for more detail). Our thalamic network will consist of 100 \"filter\" cells, which aren't actual cells by just place holders for spike-trains."
   ]
  },
  {
   "cell_type": "code",
   "execution_count": 3,
   "metadata": {
    "collapsed": true
   },
   "outputs": [],
   "source": [
    "thalamus = NetworkBuilder('mthalamus')\n",
    "thalamus.add_nodes(N=100,\n",
    "                   pop_name='tON',\n",
    "                   potential='exc',\n",
    "                   model_type='virtual')"
   ]
  },
  {
   "cell_type": "markdown",
   "metadata": {},
   "source": [
    "The external network doesn't have recurrent connections. Rather all the cells are feedforward onto the internal network. To do this is in a separate script which must reload the saved mcortex cell files using the import function. Then we create an edge with the thalamus nodes as the sources and the cortext nodes as the targets. This time we use the built-in connect_random connection rule, which will randomly assign each thalamus --> cortex connection between 0 and 12 synaptic connections."
   ]
  },
  {
   "cell_type": "code",
   "execution_count": 4,
   "metadata": {},
   "outputs": [],
   "source": [
    "from bmtk.builder.aux.edge_connectors import connect_random\n",
    "\n",
    "thalamus.add_edges(source=thalamus.nodes(), target=cortex.nodes(),\n",
    "                   connection_rule=connect_random,\n",
    "                   connection_params={'nsyn_min': 0, 'nsyn_max': 12},\n",
    "                   syn_weight=1.0e-04,\n",
    "                   distance_range=[0.0, 150.0],\n",
    "                   target_sections=['basal', 'apical'],\n",
    "                   delay=2.0,\n",
    "                   dynamics_params='AMPA_ExcToExc.json',\n",
    "                   model_template='exp2syn')\n",
    "\n",
    "thalamus.build()\n",
    "thalamus.save_nodes(output_dir='network')\n",
    "thalamus.save_edges(output_dir='network')"
   ]
  },
  {
   "cell_type": "markdown",
   "metadata": {},
   "source": [
    "## 2. Setting up BioNet\n",
    "\n",
    "#### file structure.\n",
    "\n",
    "Before running a simulation, we will need to create the runtime environment, including parameter files, run-script and configuration files. If using the tutorial these files will already be in place. Otherwise we can use a command-line:\n",
    "```bash\n",
    " $ python -m bmtk.utils.sim_setup -n network --membrane_report-vars v,cai --membrane_report-sections soma --tstop 3000.0 --dt 0.1 bionet\n",
    "```\n",
    "\n",
    "Also our cortex cell uses a Scnn1a model we can download from the Allen Cell-Types Database\n",
    "```bash\n",
    " $ wget http://celltypes.brain-map.org/neuronal_model/download/482934212\n",
    " $ unzip 482934212\n",
    " $ cp fit_parameters.json biophys_components/biophysical_neuron_templates/472363762_fit.json\n",
    " $ cp reconstruction.swc biophys_components/morphologies/Scnn1a_473845048_m.swc\n",
    "```"
   ]
  },
  {
   "cell_type": "markdown",
   "metadata": {},
   "source": [
    "#### Spike Trains\n",
    "\n",
    "We next need to create a csv (or nwb) file containing spike trains for our thalamic filter cells. Then we must edit the \"input\" section of the config file to reflect where input spike are comming from."
   ]
  },
  {
   "cell_type": "code",
   "execution_count": 5,
   "metadata": {
    "collapsed": true
   },
   "outputs": [],
   "source": [
    "from bmtk.utils.spike_trains import SpikesGenerator\n",
    "\n",
    "sg = SpikesGenerator(nodes='network/mthalamus_nodes.h5', t_max=3.0)\n",
    "sg.set_rate(15.0)\n",
    "sg.save_csv('thalamus_spikes.csv', in_ms=True)"
   ]
  },
  {
   "cell_type": "markdown",
   "metadata": {},
   "source": [
    "```json\n",
    "\"inputs\": {\n",
    "    \"tc_spikes\": {\n",
    "      \"input_type\": \"spikes\",\n",
    "      \"module\": \"csv\",\n",
    "      \"input_file\": \"${BASE_DIR}/thalamus_spikes.csv\",\n",
    "      \"node_set\": \"mthalamus\"\n",
    "    }\n",
    "}\n",
    "```"
   ]
  },
  {
   "cell_type": "markdown",
   "metadata": {},
   "source": [
    "## 3. Running the simulation\n",
    "\n",
    "Once our config file is setup we can run a simulation either through the command line:\n",
    "```bash\n",
    "$ python run_bionet.py config.json\n",
    "```\n",
    "\n",
    "or through the script"
   ]
  },
  {
   "cell_type": "code",
   "execution_count": 1,
   "metadata": {
    "scrolled": true
   },
   "outputs": [
    {
     "name": "stdout",
     "output_type": "stream",
     "text": [
      "2018-09-20 15:59:16,953 [INFO] Created log file\n",
      "2018-09-20 15:59:17,128 [INFO] Building cells.\n",
      "2018-09-20 15:59:22,347 [INFO] Building recurrent connections\n",
      "2018-09-20 15:59:22,962 [INFO] Build virtual cell stimulations for tc_spikes\n",
      "2018-09-20 15:59:30,596 [INFO] Running simulation for 3000.000 ms with the time step 0.100 ms\n",
      "2018-09-20 15:59:30,598 [INFO] Starting timestep: 0 at t_sim: 0.000 ms\n",
      "2018-09-20 15:59:30,599 [INFO] Block save every 5000 steps\n",
      "2018-09-20 15:59:52,769 [INFO]     step:5000 t_sim:500.00 ms\n",
      "2018-09-20 16:00:14,740 [INFO]     step:10000 t_sim:1000.00 ms\n",
      "2018-09-20 16:00:36,662 [INFO]     step:15000 t_sim:1500.00 ms\n",
      "2018-09-20 16:00:58,599 [INFO]     step:20000 t_sim:2000.00 ms\n",
      "2018-09-20 16:01:20,658 [INFO]     step:25000 t_sim:2500.00 ms\n",
      "2018-09-20 16:01:43,358 [INFO]     step:30000 t_sim:3000.00 ms\n",
      "2018-09-20 16:01:44,182 [INFO] Simulation completed in 2.0 minutes, 13.59 seconds \n"
     ]
    }
   ],
   "source": [
    "from bmtk.simulator import bionet\n",
    "\n",
    "\n",
    "conf = bionet.Config.from_json('simulation_config.json')\n",
    "conf.build_env()\n",
    "net = bionet.BioNetwork.from_config(conf)\n",
    "sim = bionet.BioSimulator.from_config(conf, network=net)\n",
    "sim.run()"
   ]
  },
  {
   "cell_type": "markdown",
   "metadata": {},
   "source": [
    "## 4. Analyzing the run.\n",
    "\n",
    "If successful, we should have our results in the 'output' directory. We can use the analyzer to plot a raster of the spikes over time:"
   ]
  },
  {
   "cell_type": "code",
   "execution_count": 8,
   "metadata": {
    "scrolled": true
   },
   "outputs": [
    {
     "data": {
      "image/png": "[encoded data removed]",
      "text/plain": [
       "<matplotlib.figure.Figure at 0x7f3ee5675ad0>"
      ]
     },
     "metadata": {},
     "output_type": "display_data"
    }
   ],
   "source": [
    "from bmtk.analyzer.spike_trains import raster_plot\n",
    "\n",
    "raster_plot(cells_file='network/mcortex_nodes.h5', cell_models_file='network/mcortex_node_types.csv', spikes_file='output/spikes.h5')"
   ]
  },
  {
   "cell_type": "markdown",
   "metadata": {},
   "source": [
    "In our config file we used the cell_vars and node_id_selections parameters to save the calcium influx and membrane potential of selected cells. We can also use the analyzer to display these traces:"
   ]
  },
  {
   "cell_type": "code",
   "execution_count": 9,
   "metadata": {},
   "outputs": [
    {
     "data": {
      "image/png": "[encoded data removed]",
      "text/plain": [
       "<matplotlib.figure.Figure at 0x7f3ee5459610>"
      ]
     },
     "metadata": {},
     "output_type": "display_data"
    }
   ],
   "source": [
    "from bmtk.analyzer.cell_vars import plot_report\n",
    "\n",
    "plot_report(config_file='simulation_config.json', gids=[0])"
   ]
  },
  {
   "cell_type": "markdown",
   "metadata": {},
   "source": [
    "## 5. Modifying the network"
   ]
  },
  {
   "cell_type": "markdown",
   "metadata": {},
   "source": [
    "### Customized node params\n",
    "\n",
    "When building our cortex nodes, we used some built-in functions to set certain parameters like positions and y-axis rotations:\n",
    "```python\n",
    "cortex.add_nodes(N=100,\n",
    "                 pop_name='Scnn1a',\n",
    "                 positions=positions_columinar(N=100, center=[0, 50.0, 0], max_radius=30.0, height=100.0),\n",
    "                 rotation_angle_yaxis=xiter_random(N=100, min_x=0.0, max_x=2*np.pi),\n",
    "                 ...\n",
    "```\n",
    "\n",
    "These functions will assign every cell a unique value in the positions and rotation_angel_yaxis parameters, unlike the pop_name parameter which will be the same for all 100 cells. We can verify by the following code:\n"
   ]
  },
  {
   "cell_type": "code",
   "execution_count": 20,
   "metadata": {},
   "outputs": [
    {
     "name": "stdout",
     "output_type": "stream",
     "text": [
      "cell 0: pop_name: Scnn1a, positions: [ -1.99484437  41.49527042  22.33923077], angle_yaxis: 5.29759513272\n",
      "cell 1: pop_name: Scnn1a, positions: [-25.72073426  36.01835631   2.43526216], angle_yaxis: 2.94311607964\n"
     ]
    }
   ],
   "source": [
    "cortex_nodes = list(cortex.nodes())\n",
    "n0 = cortex_nodes[0]\n",
    "n1 = cortex_nodes[1]\n",
    "print('cell 0: pop_name: {}, positions: {}, angle_yaxis: {}'.format(n0['pop_name'], n0['positions'], n0['rotation_angle_yaxis']))\n",
    "print('cell 1: pop_name: {}, positions: {}, angle_yaxis: {}'.format(n1['pop_name'], n1['positions'], n1['rotation_angle_yaxis']))\n"
   ]
  },
  {
   "cell_type": "markdown",
   "metadata": {},
   "source": [
    "The Network Builder contains a growing number of built-in functions. However for advanced networks a modeler will probably want to assign parameters using their own functions. To do so, a modeler only needs to passes in, or alternatively create a function that returns, a list of size N. When saving the network, each individual position will be saved in the nodes.h5 file assigned to each cell by gid.\n",
    "\n",
    "```python\n",
    "def cortex_positions(N):\n",
    "    # codex to create a list/numpy array of N (x, y, z) positions.\n",
    "    return [...]\n",
    "\n",
    "cortex.add_nodes(N=100,\n",
    "                 positions=cortex_positions(100),\n",
    "                 ...\n",
    "```\n",
    "\n",
    "or if we wanted we could give all cells the same positions (The builder has no restrictions on this, however this may cause issues if your trying to create connections based on distance). When saving the network, the same position is assigned as a global cell-type property, and thus saved in the node_types.csv file.\n",
    "```python\n",
    "cortex.add_nodes(N=100,\n",
    "                 positions=np.ndarray([100.23, -50.67, 89.01]),\n",
    "                 ...\n",
    "```\n",
    "\n",
    "We can use the same logic not just for positions and rotation_angle, but for any parameter we choose."
   ]
  },
  {
   "cell_type": "markdown",
   "metadata": {},
   "source": [
    "### Customized connector functions\n",
    "\n",
    "When creating edges, we used the built-in distance_connector function to help create the connection matrix. There are a number of built-in connection functions, but we also allow modelers to create their own. To do so, the modeler must create a function that takes in a source, target, and a variable number of parameters, and pass back an natural number representing the number of connections.\n",
    "\n",
    "The Builder will iterate over that function passing in every source/target node pair (filtered by the source and target parameters in add_edges()). The source and target parameters are essentially dictionaries that can be used to fetch properties of the nodes. A typical example would look like:\n",
    "\n",
    "```python\n",
    "def customized_connector(source, target, param1, param2, param3):\n",
    "    if source.node_id == target.node_id:\n",
    "        # necessary if we don't want autapses\n",
    "        return 0\n",
    "    source_pot = source['potential']\n",
    "    target_pot = target['potential']\n",
    "    # some code to determine number of connections\n",
    "    return n_synapses\n",
    "    \n",
    "...\n",
    "cortex.add_edges(source=<source_nodes>, target=<target_nodes>,\n",
    "                 connection_rule=customized_connector,\n",
    "                 connection_params={'param1': <p1>, 'param2': <p2>, 'param3': <p3>},\n",
    "                 ...\n",
    "```"
   ]
  },
  {
   "cell_type": "code",
   "execution_count": null,
   "metadata": {
    "collapsed": true
   },
   "outputs": [],
   "source": []
  }
 ],
 "metadata": {
  "anaconda-cloud": {},
  "kernelspec": {
   "display_name": "Python 2",
   "language": "python",
   "name": "python2"
  },
  "language_info": {
   "codemirror_mode": {
    "name": "ipython",
    "version": 2
   },
   "file_extension": ".py",
   "mimetype": "text/x-python",
   "name": "python",
   "nbconvert_exporter": "python",
   "pygments_lexer": "ipython2",
   "version": "2.7.13"
  }
 },
 "nbformat": 4,
 "nbformat_minor": 2
}
