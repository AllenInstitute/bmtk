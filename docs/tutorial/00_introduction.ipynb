{
 "cells": [
  {
   "cell_type": "markdown",
   "metadata": {},
   "source": [
    "# Chapter 0: Introduction to the Brain Modeling Toolkit\n",
    "\n",
    "The brain modeling toolkit (bmtk) was developed at the Allen Institute for Brain Science to assist with modeling, simulation and analysis of large-scale networks. It was developed in python and is open-source. The bmtk also provides a unified interface across different level of representations of brain models: supporting everything from biophysically detailed models of indvidual neurons and synapses, to high level representation of connection dynamics between different regions of the brain.\n",
    "\n",
    "Included in the bmtk:\n",
    "* **The Network Builder** - python API that allows modelers to build large-scale network models with a minimal amount of coding.\n",
    "* A standarized format for representing networks across a range of different levels of resolution, that is both efficient in memory and read-time, but also allows users to quickly adjust parameters before and during simulations.\n",
    "* A collection of simulator interfaces to run network simulations on a variety of different simulators.\n",
    "* **Analysis Toolkit** - An set of tools for visualizing and analyzing networks and simulation results."
   ]
  },
  {
   "cell_type": "markdown",
   "metadata": {},
   "source": [
    "## About This Guide\n",
    "### Part 1: Complete workflow tutorials \n",
    "[Chapter 1: Single cell with current stimulation (with BioNet)](01_single_cell_clamped.ipynb)  \n",
    "[Chapter 2: Single cell with external synaptic stimulation (with BioNet)](02_single_cell_syn.ipynb)  \n",
    "[Chapter 3: Single population recurrent network (with BioNet)](03_single_pop.ipynb)  \n",
    "[Chapter 4: Multi-population recurrent network (with BioNet)](04_multi_pop.ipynb)  \n",
    "[Chapter 5: Point-neuron simulation (with PointNet)](05_pointnet_tut.ipynb)  \n",
    "[Chapter 6: Population-level simulation (with PopNet)](06_popnet_tut.ipynb)  \n"
   ]
  },
  {
   "cell_type": "markdown",
   "metadata": {},
   "source": [
    "## Prerequisites:\n",
    "\n",
    "The bmtk requires at minimum python 2.7 (python 3 support is currently being added) as well as additional libraries to use features like building networks or running analyses. To install the bmtk it is best recommending to pull the latest from github.\n",
    "```bash\n",
    " $ git clone https://github.com/AllenInstitute/bmtk.git\n",
    " $ cd bmtk\n",
    " $ python setup.py install\n",
    "```\n",
    "\n",
    "However, to run a simulation on the network the bmtk uses existing open-source simulatiors, which (at the moment) needs to be installed separately. The different simulators, which run simulations on different levels-of-resolution, will require different software. So depending on the type of simulation to be run\n",
    "* biophysically detailed network (BioNet) - Uses [NEURON](https://www.neuron.yale.edu/neuron/download).\n",
    "* point-neuron network (PointNet) - Uses [NEST](http://www.nest-simulator.org/installation/).\n",
    "* population-level network (PopNet) - Uses [DiPDE](https://github.com/nicain/dipde_dev).\n",
    "* convolutional neural network (MintNet) - Uses [TensorFlow](https://www.tensorflow.org/install/)."
   ]
  },
  {
   "cell_type": "code",
   "execution_count": null,
   "metadata": {
    "collapsed": true
   },
   "outputs": [],
   "source": []
  }
 ],
 "metadata": {
  "anaconda-cloud": {},
  "kernelspec": {
   "display_name": "Python [conda env:bmtk-py27]",
   "language": "python",
   "name": "conda-env-bmtk-py27-py"
  },
  "language_info": {
   "codemirror_mode": {
    "name": "ipython",
    "version": 2
   },
   "file_extension": ".py",
   "mimetype": "text/x-python",
   "name": "python",
   "nbconvert_exporter": "python",
   "pygments_lexer": "ipython2",
   "version": "2.7.13"
  }
 },
 "nbformat": 4,
 "nbformat_minor": 2
}
