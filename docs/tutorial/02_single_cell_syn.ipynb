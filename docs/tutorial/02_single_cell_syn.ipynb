{
 "cells": [
  {
   "cell_type": "markdown",
   "metadata": {},
   "source": [
    "# Chapter 2: Single cell simulation with external feedfoward input (with BioNet)\n",
    "\n",
    "In the previous tutorial we built a single cell and stimulated it with a current injection. In this example we will keep our single-cell network, but instead of stimulation by a step current, we'll set-up an external network that synapses onto our cell.\n",
    "\n",
    "**Note** - scripts and files for running this tutorial can be found in the directory [sources/chapter02/](sources/chapter02)\n",
    "\n",
    "Requirements:\n",
    "* bmtk\n",
    "* NEURON 7.4+"
   ]
  },
  {
   "cell_type": "markdown",
   "metadata": {
    "collapsed": false
   },
   "source": [
    "## Step 1: Building the network.\n",
    "\n",
    "Similar to the previous tutorial, we want to build and save a network consisting of a single biophysically detailed cell. TODO: Add link with explaination."
   ]
  },
  {
   "cell_type": "code",
   "execution_count": 1,
   "metadata": {
    "collapsed": true
   },
   "outputs": [],
   "source": [
    "from bmtk.builder.networks import NetworkBuilder\n",
    "\n",
    "\n",
    "cortex = NetworkBuilder('mcortex')\n",
    "cortex.add_nodes(cell_name='Scnn1a_473845048',\n",
    "                 potental='exc',\n",
    "                 model_type='biophysical',\n",
    "                 model_template='ctdb:Biophys1.hoc',\n",
    "                 model_processing='aibs_perisomatic',\n",
    "                 dynamics_params='472363762_fit.json',\n",
    "                 morphology_file='Scnn1a_473845048_m.swc')\n",
    "\n",
    "cortex.build()\n",
    "cortex.save_nodes(output_dir='network')\n"
   ]
  },
  {
   "cell_type": "markdown",
   "metadata": {
    "collapsed": true
   },
   "source": [
    "But we will also want a collection of external spike-generating cells that will synapse onto our cell. To do this we create a second network which can represent thalamic input. We will call our network \"mthalamus\", and it will consist of 10 cells. These cells are not biophysical but instead \"virtual\" cells. Filter cells don't have a morphology or the normal properties of a neuron. Rather filter cells (also called virtual cells) are just spike generators."
   ]
  },
  {
   "cell_type": "code",
   "execution_count": 2,
   "metadata": {
    "collapsed": false
   },
   "outputs": [],
   "source": [
    "thalamus = NetworkBuilder('mthalamus')\n",
    "thalamus.add_nodes(N=10,\n",
    "                   pop_name='tON',\n",
    "                   potential='exc',\n",
    "                   model_type='virtual')"
   ]
  },
  {
   "cell_type": "markdown",
   "metadata": {},
   "source": [
    "Now that we built our nodes, we want to create a connection between our 10 thalamic cells onto our cortex cell. To do so we use the add_edges function like so:"
   ]
  },
  {
   "cell_type": "code",
   "execution_count": 3,
   "metadata": {
    "collapsed": false
   },
   "outputs": [
    {
     "data": {
      "text/plain": [
       "<bmtk.builder.connection_map.ConnectionMap at 0x7f1f157c6590>"
      ]
     },
     "execution_count": 3,
     "metadata": {},
     "output_type": "execute_result"
    }
   ],
   "source": [
    "thalamus.add_edges(source={'pop_name': 'tON'}, target=cortex.nodes(),\n",
    "                   connection_rule=5,\n",
    "                   syn_weight=0.001,\n",
    "                   weight_function=None,\n",
    "                   delay=2.0,\n",
    "                   target_sections=['basal', 'apical'],\n",
    "                   distance_range=[0.0, 150.0],\n",
    "                   dynamics_params='AMPA_ExcToExc.json',\n",
    "                   model_template='exp2syn')"
   ]
  },
  {
   "cell_type": "markdown",
   "metadata": {},
   "source": [
    "Let us break down how this method call works:\n",
    "```python\n",
    "thalamus.add_edges(source={'pop_name': 'tON'}, target=cortex.nodes(),\n",
    "```\n",
    "* Here we specify which set of nodes to use as sources and targets. Our source/pre-synaptic cells are all thamalus cells with the property \"pop_name=tON\", which in this case is every thalmus cell (We could also use source=thalamus.nodes(), or source={'level_of_detail': 'filter'}). The target/post-synaptic is all cell(s) of the \"cortex\" network.\n",
    "\n",
    "```python\n",
    "connection_rule=5,\n",
    "```\n",
    "* The connection_rule parameter determines how many synapses exists between every source/target pair. In this very trivial case we are indicating that between every thamalic --> cortical cell connection, there are 5 synapatic connections. In future tutorials we will show how we can create more complex customized rules.\n",
    "\n",
    "```python\n",
    "syn_weight=0.001,\n",
    "delay=2.0,\n",
    "weight_function=None,\n",
    "```\n",
    "* Here we are specifying the connection weight. For every connection in this edge-type, there is a connection strenght of 5e-05 (units) and a connection dealy of 2 ms. The weight function is used to adjusted the weights before runtime. Later we will show how to create customized weight functions.\n",
    "\n",
    "```python\n",
    "   target_sections=['basal', 'apical'],\n",
    "   distance_range=[0.0, 150.0],\n",
    "```\n",
    "* This is used by BioNet to determine where on the post-synaptic cell to place the synapse. By default placement is random within the given section and range.\n",
    "```python\n",
    "dynamics_params='AMPA_ExcToExc.json',  \n",
    "model_template='exp2syn')\n",
    "```\n",
    "* The params_file give the parameters of the synpase, including the time constant and potential. Here we are using an AMPA type synaptic model with an Excitatory connection. The set_params_function is used by BioNet to convert the model into a valid NEURON synaptic object.\n",
    "\n",
    "Finally we are ready to build the model and save the thalamic nodes and edges."
   ]
  },
  {
   "cell_type": "code",
   "execution_count": 5,
   "metadata": {
    "collapsed": true
   },
   "outputs": [],
   "source": [
    "thalamus.build()\n",
    "thalamus.save_nodes(output_dir='network')\n",
    "thalamus.save_edges(output_dir='network')"
   ]
  },
  {
   "cell_type": "markdown",
   "metadata": {},
   "source": [
    "The network/ directory will contain multiple nodes and edges files. It should have nodes (and node-types) files for both the thalamus and cortex network. And edges (and edge-types) files for the thalamus --> cortex connections. Nodes and edges for different networks and their connections are spread out across different files which allows us in the future to rebuild, edit or replace part of setup in a piecemeal and efficent manner."
   ]
  },
  {
   "cell_type": "markdown",
   "metadata": {},
   "source": [
    "## Step 2: Setting up BioNet environment.\n",
    "#### file structure.\n",
    "\n",
    "Before running a simulation, we will need to create the runtime environment, including parameter files, run-script and configuration files. If using the tutorial these files will already be in place. Otherwise we can use a command-line:\n",
    "```bash\n",
    "$ python -m bmtk.utils.sim_setup -n network --membrane_report-vars v,cai --membrane_report-sections soma --run-time 2000.0 bionet\n",
    "```\n",
    "\n",
    "Also our cortex cell uses a Scnn1a model we can download from the Allen Cell-Types Database\n",
    "```bash\n",
    " $ wget http://celltypes.brain-map.org/neuronal_model/download/482934212\n",
    " $ unzip 482934212\n",
    " $ cp fit_parameters.json components/biophysical/electrophysiology/472363762_fit.json\n",
    " $ cp reconstruction.swc components/biophysical/morphology/Scnn1a_473845048_m.swc\n",
    "```"
   ]
  },
  {
   "cell_type": "markdown",
   "metadata": {},
   "source": [
    "#### Spike Trains\n",
    "\n",
    "We need to give our 10 thalamic cells spike trains. There are multiple ways to do this, but an easy way to use a csv file. The following function will create a file to provide the spikes for our 10 cells.\n"
   ]
  },
  {
   "cell_type": "code",
   "execution_count": 5,
   "metadata": {
    "collapsed": false
   },
   "outputs": [],
   "source": [
    "from bmtk.utils.spike_trains import SpikesGenerator\n",
    "\n",
    "sg = SpikesGenerator(nodes='network/mthalamus_nodes.h5', t_max=3.0)\n",
    "sg.set_rate(10.0)\n",
    "sg.save_csv('thalamus_spikes.csv', in_ms=True)"
   ]
  },
  {
   "cell_type": "markdown",
   "metadata": {},
   "source": [
    "The spikes file consists of 10 rows with 2 columns; the gid and a list of spike times (in milliseconds). Thus you can create your own if you want."
   ]
  },
  {
   "cell_type": "code",
   "execution_count": 6,
   "metadata": {
    "collapsed": false,
    "scrolled": true
   },
   "outputs": [
    {
     "data": {
      "text/html": [
       "<div>\n",
       "<style>\n",
       "    .dataframe thead tr:only-child th {\n",
       "        text-align: right;\n",
       "    }\n",
       "\n",
       "    .dataframe thead th {\n",
       "        text-align: left;\n",
       "    }\n",
       "\n",
       "    .dataframe tbody tr th {\n",
       "        vertical-align: top;\n",
       "    }\n",
       "</style>\n",
       "<table border=\"1\" class=\"dataframe\">\n",
       "  <thead>\n",
       "    <tr style=\"text-align: right;\">\n",
       "      <th></th>\n",
       "      <th>gid</th>\n",
       "      <th>spike-times</th>\n",
       "    </tr>\n",
       "  </thead>\n",
       "  <tbody>\n",
       "    <tr>\n",
       "      <th>0</th>\n",
       "      <td>0</td>\n",
       "      <td>55.70250325,204.992546833,370.753254746,424.62...</td>\n",
       "    </tr>\n",
       "    <tr>\n",
       "      <th>1</th>\n",
       "      <td>1</td>\n",
       "      <td>139.368403781,229.074995676,347.913975096,530....</td>\n",
       "    </tr>\n",
       "    <tr>\n",
       "      <th>2</th>\n",
       "      <td>2</td>\n",
       "      <td>211.0746495,417.826602853,616.616406638,782.69...</td>\n",
       "    </tr>\n",
       "    <tr>\n",
       "      <th>3</th>\n",
       "      <td>3</td>\n",
       "      <td>105.817308461,208.027396711,445.140791614,462....</td>\n",
       "    </tr>\n",
       "    <tr>\n",
       "      <th>4</th>\n",
       "      <td>4</td>\n",
       "      <td>69.978225951,191.713579838,292.099712766,463.9...</td>\n",
       "    </tr>\n",
       "    <tr>\n",
       "      <th>5</th>\n",
       "      <td>5</td>\n",
       "      <td>83.2652767039,196.913541658,293.150877089,504....</td>\n",
       "    </tr>\n",
       "    <tr>\n",
       "      <th>6</th>\n",
       "      <td>6</td>\n",
       "      <td>0.108202878072,52.5431432467,205.930701859,364...</td>\n",
       "    </tr>\n",
       "    <tr>\n",
       "      <th>7</th>\n",
       "      <td>7</td>\n",
       "      <td>155.269493126,336.878834068,455.431031907,748....</td>\n",
       "    </tr>\n",
       "    <tr>\n",
       "      <th>8</th>\n",
       "      <td>8</td>\n",
       "      <td>128.349826091,298.002918441,350.064796176,451....</td>\n",
       "    </tr>\n",
       "    <tr>\n",
       "      <th>9</th>\n",
       "      <td>9</td>\n",
       "      <td>119.527572535,241.547251624,448.340869844,539....</td>\n",
       "    </tr>\n",
       "  </tbody>\n",
       "</table>\n",
       "</div>"
      ],
      "text/plain": [
       "   gid                                        spike-times\n",
       "0    0  55.70250325,204.992546833,370.753254746,424.62...\n",
       "1    1  139.368403781,229.074995676,347.913975096,530....\n",
       "2    2  211.0746495,417.826602853,616.616406638,782.69...\n",
       "3    3  105.817308461,208.027396711,445.140791614,462....\n",
       "4    4  69.978225951,191.713579838,292.099712766,463.9...\n",
       "5    5  83.2652767039,196.913541658,293.150877089,504....\n",
       "6    6  0.108202878072,52.5431432467,205.930701859,364...\n",
       "7    7  155.269493126,336.878834068,455.431031907,748....\n",
       "8    8  128.349826091,298.002918441,350.064796176,451....\n",
       "9    9  119.527572535,241.547251624,448.340869844,539...."
      ]
     },
     "execution_count": 6,
     "metadata": {},
     "output_type": "execute_result"
    }
   ],
   "source": [
    "import pandas as pd\n",
    "pd.read_csv('thalamus_spikes.csv', sep=' ')"
   ]
  },
  {
   "cell_type": "markdown",
   "metadata": {},
   "source": [
    "The last thing that we need to do is to update the configuration file to read \"thalamus_spikes.csv\". To do so we open config.json in a text editor and add the following to the **input** section.\n",
    "\n",
    "```json\n",
    "\"inputs\": {\n",
    "    \"lgn_spikes\": {\n",
    "      \"input_type\": \"spikes\",\n",
    "      \"module\": \"csv\",\n",
    "      \"input_file\": \"${BASE_DIR}/thalamus_spikes.csv\",\n",
    "      \"node_set\": \"mthalamus\"\n",
    "    }\n",
    "}\n",
    "```"
   ]
  },
  {
   "cell_type": "markdown",
   "metadata": {},
   "source": [
    "## 3. Running the simulation\n",
    "\n",
    "Once our config file is setup we can run a simulation either through the command line:\n",
    "```bash\n",
    "$ python run_bionet.py config.json\n",
    "```\n",
    "\n",
    "or through the script"
   ]
  },
  {
   "cell_type": "code",
   "execution_count": 6,
   "metadata": {
    "collapsed": false,
    "scrolled": true
   },
   "outputs": [
    {
     "name": "stdout",
     "output_type": "stream",
     "text": [
      "2018-05-09 11:09:01,259 [INFO] Created log file\n",
      "2018-05-09 11:09:01,411 [INFO] Building cells.\n",
      "2018-05-09 11:09:01,539 [INFO] Building recurrent connections\n",
      "2018-05-09 11:09:01,542 [INFO] Build virtual cell stimulations for lgn_spikes\n",
      "2018-05-09 11:09:01,587 [INFO] Running simulation for 2000.000 ms with the time step 0.100 ms\n",
      "2018-05-09 11:09:01,588 [INFO] Starting timestep: 0 at t_sim: 0.000 ms\n",
      "2018-05-09 11:09:01,588 [INFO] Block save every 5000 steps\n",
      "2018-05-09 11:09:01,724 [INFO]     step:5000 t_sim:500.000 ms\n",
      "2018-05-09 11:09:01,861 [INFO]     step:10000 t_sim:1000.000 ms\n",
      "2018-05-09 11:09:01,986 [INFO]     step:15000 t_sim:1500.000 ms\n",
      "2018-05-09 11:09:02,115 [INFO]     step:20000 t_sim:2000.000 ms\n",
      "2018-05-09 11:09:02,133 [INFO] Simulation completed in 0.5463 seconds \n"
     ]
    }
   ],
   "source": [
    "from bmtk.simulator import bionet\n",
    "\n",
    "\n",
    "conf = bionet.Config.from_json('config.json')\n",
    "conf.build_env()\n",
    "net = bionet.BioNetwork.from_config(conf)\n",
    "sim = bionet.BioSimulator.from_config(conf, network=net)\n",
    "sim.run()"
   ]
  },
  {
   "cell_type": "markdown",
   "metadata": {},
   "source": [
    "## 4. Analyzing the run"
   ]
  },
  {
   "cell_type": "code",
   "execution_count": 7,
   "metadata": {
    "collapsed": false
   },
   "outputs": [
    {
     "data": {
      "text/html": [
       "<div>\n",
       "<style>\n",
       "    .dataframe thead tr:only-child th {\n",
       "        text-align: right;\n",
       "    }\n",
       "\n",
       "    .dataframe thead th {\n",
       "        text-align: left;\n",
       "    }\n",
       "\n",
       "    .dataframe tbody tr th {\n",
       "        vertical-align: top;\n",
       "    }\n",
       "</style>\n",
       "<table border=\"1\" class=\"dataframe\">\n",
       "  <thead>\n",
       "    <tr style=\"text-align: right;\">\n",
       "      <th></th>\n",
       "      <th>gid</th>\n",
       "      <th>spike time (ms)</th>\n",
       "    </tr>\n",
       "  </thead>\n",
       "  <tbody>\n",
       "    <tr>\n",
       "      <th>0</th>\n",
       "      <td>0</td>\n",
       "      <td>60.9</td>\n",
       "    </tr>\n",
       "    <tr>\n",
       "      <th>1</th>\n",
       "      <td>0</td>\n",
       "      <td>128.1</td>\n",
       "    </tr>\n",
       "    <tr>\n",
       "      <th>2</th>\n",
       "      <td>0</td>\n",
       "      <td>202.7</td>\n",
       "    </tr>\n",
       "    <tr>\n",
       "      <th>3</th>\n",
       "      <td>0</td>\n",
       "      <td>211.0</td>\n",
       "    </tr>\n",
       "    <tr>\n",
       "      <th>4</th>\n",
       "      <td>0</td>\n",
       "      <td>300.2</td>\n",
       "    </tr>\n",
       "    <tr>\n",
       "      <th>5</th>\n",
       "      <td>0</td>\n",
       "      <td>354.7</td>\n",
       "    </tr>\n",
       "    <tr>\n",
       "      <th>6</th>\n",
       "      <td>0</td>\n",
       "      <td>378.5</td>\n",
       "    </tr>\n",
       "    <tr>\n",
       "      <th>7</th>\n",
       "      <td>0</td>\n",
       "      <td>455.5</td>\n",
       "    </tr>\n",
       "    <tr>\n",
       "      <th>8</th>\n",
       "      <td>0</td>\n",
       "      <td>468.5</td>\n",
       "    </tr>\n",
       "    <tr>\n",
       "      <th>9</th>\n",
       "      <td>0</td>\n",
       "      <td>522.5</td>\n",
       "    </tr>\n",
       "    <tr>\n",
       "      <th>10</th>\n",
       "      <td>0</td>\n",
       "      <td>688.3</td>\n",
       "    </tr>\n",
       "    <tr>\n",
       "      <th>11</th>\n",
       "      <td>0</td>\n",
       "      <td>786.6</td>\n",
       "    </tr>\n",
       "    <tr>\n",
       "      <th>12</th>\n",
       "      <td>0</td>\n",
       "      <td>1209.0</td>\n",
       "    </tr>\n",
       "    <tr>\n",
       "      <th>13</th>\n",
       "      <td>0</td>\n",
       "      <td>1312.9</td>\n",
       "    </tr>\n",
       "    <tr>\n",
       "      <th>14</th>\n",
       "      <td>0</td>\n",
       "      <td>1554.6</td>\n",
       "    </tr>\n",
       "    <tr>\n",
       "      <th>15</th>\n",
       "      <td>0</td>\n",
       "      <td>1784.4</td>\n",
       "    </tr>\n",
       "    <tr>\n",
       "      <th>16</th>\n",
       "      <td>0</td>\n",
       "      <td>1829.4</td>\n",
       "    </tr>\n",
       "    <tr>\n",
       "      <th>17</th>\n",
       "      <td>0</td>\n",
       "      <td>1963.3</td>\n",
       "    </tr>\n",
       "  </tbody>\n",
       "</table>\n",
       "</div>"
      ],
      "text/plain": [
       "    gid  spike time (ms)\n",
       "0     0             60.9\n",
       "1     0            128.1\n",
       "2     0            202.7\n",
       "3     0            211.0\n",
       "4     0            300.2\n",
       "5     0            354.7\n",
       "6     0            378.5\n",
       "7     0            455.5\n",
       "8     0            468.5\n",
       "9     0            522.5\n",
       "10    0            688.3\n",
       "11    0            786.6\n",
       "12    0           1209.0\n",
       "13    0           1312.9\n",
       "14    0           1554.6\n",
       "15    0           1784.4\n",
       "16    0           1829.4\n",
       "17    0           1963.3"
      ]
     },
     "execution_count": 7,
     "metadata": {},
     "output_type": "execute_result"
    }
   ],
   "source": [
    "from bmtk.analyzer import spikes_table\n",
    "spikes_table(config_file='config.json')"
   ]
  },
  {
   "cell_type": "code",
   "execution_count": 8,
   "metadata": {
    "collapsed": false
   },
   "outputs": [
    {
     "data": {
      "image/png": "[encoded data removed]",
      "text/plain": [
       "<matplotlib.figure.Figure at 0x7f1f3c2e8ed0>"
      ]
     },
     "metadata": {},
     "output_type": "display_data"
    },
    {
     "data": {
      "image/png": "[encoded data removed]",
      "text/plain": [
       "<matplotlib.figure.Figure at 0x7f1f01401690>"
      ]
     },
     "metadata": {},
     "output_type": "display_data"
    }
   ],
   "source": [
    "from bmtk.analyzer import plot_potential, plot_calcium\n",
    "\n",
    "plot_potential(cell_vars_h5='output/cell_vars.h5')\n",
    "plot_calcium(cell_vars_h5='output/cell_vars.h5')"
   ]
  },
  {
   "cell_type": "markdown",
   "metadata": {},
   "source": [
    "## 5. Additional things to do:\n",
    "\n",
    "### Changing edge properties\n",
    "\n",
    "When using the Network Builder add_edges method, we gave all the edges the same parameter values (delay, weight, target_section, etc.). All connection created by this method call constitute an single edge-type that share the same parameters, and are specified in the mthalamic_edge_type.csv file"
   ]
  },
  {
   "cell_type": "code",
   "execution_count": 9,
   "metadata": {
    "collapsed": false
   },
   "outputs": [
    {
     "data": {
      "text/html": [
       "<div>\n",
       "<style>\n",
       "    .dataframe thead tr:only-child th {\n",
       "        text-align: right;\n",
       "    }\n",
       "\n",
       "    .dataframe thead th {\n",
       "        text-align: left;\n",
       "    }\n",
       "\n",
       "    .dataframe tbody tr th {\n",
       "        vertical-align: top;\n",
       "    }\n",
       "</style>\n",
       "<table border=\"1\" class=\"dataframe\">\n",
       "  <thead>\n",
       "    <tr style=\"text-align: right;\">\n",
       "      <th></th>\n",
       "      <th>edge_type_id</th>\n",
       "      <th>target_query</th>\n",
       "      <th>source_query</th>\n",
       "      <th>syn_weight</th>\n",
       "      <th>dynamics_params</th>\n",
       "      <th>distance_range</th>\n",
       "      <th>delay</th>\n",
       "      <th>target_sections</th>\n",
       "      <th>weight_function</th>\n",
       "      <th>model_template</th>\n",
       "    </tr>\n",
       "  </thead>\n",
       "  <tbody>\n",
       "    <tr>\n",
       "      <th>0</th>\n",
       "      <td>100</td>\n",
       "      <td>*</td>\n",
       "      <td>pop_name=='tON'</td>\n",
       "      <td>0.001</td>\n",
       "      <td>AMPA_ExcToExc.json</td>\n",
       "      <td>[0.0, 150.0]</td>\n",
       "      <td>2.0</td>\n",
       "      <td>['basal', 'apical']</td>\n",
       "      <td>NaN</td>\n",
       "      <td>exp2syn</td>\n",
       "    </tr>\n",
       "  </tbody>\n",
       "</table>\n",
       "</div>"
      ],
      "text/plain": [
       "   edge_type_id target_query     source_query  syn_weight     dynamics_params  \\\n",
       "0           100            *  pop_name=='tON'       0.001  AMPA_ExcToExc.json   \n",
       "\n",
       "  distance_range  delay      target_sections  weight_function model_template  \n",
       "0   [0.0, 150.0]    2.0  ['basal', 'apical']              NaN        exp2syn  "
      ]
     },
     "execution_count": 9,
     "metadata": {},
     "output_type": "execute_result"
    }
   ],
   "source": [
    "import pandas as pd\n",
    "pd.read_csv('network/mthalamus_mcortex_edge_types.csv', sep=' ')"
   ]
  },
  {
   "cell_type": "markdown",
   "metadata": {},
   "source": [
    "(if in the build script we called add_edges multiple times, we'd have multiple edge-types). \n",
    "\n",
    "Using a simple text-editor we can modify this file directly, change parameters before a simulation run without having to rebuild the entire network (although for a network this small it may not be beneficial).\n",
    "\n",
    "#### weight_function\n",
    "\n",
    "By default BioNet uses the value in syn_weight to set a synaptic weight, which is a constant stored in the network files. Often we will want to adjust the synaptic weight between simulations, but don't want to have to regenerate the network. BioNet allows us to specify custom synaptic weight functions that will calculate synaptic weight before each simulation. \n",
    "\n",
    "To do so first we must set the value of 'weight_function' column. Either we can open up the file mthalamus_mcortex_edge_types.csv with a text-editor and change the column. \n",
    "\n",
    "\n",
    "|edge_type_id | target_query | source_query   | ... | weight_function |\n",
    "|-------------|--------------|----------------|-----|-----------------|\n",
    "|100          | *            |pop_name=='tON' | ... |*adjusted_weight*  |\n",
    "\n",
    "or we can rebuild the edges\n",
    "```python\n",
    "thalamus.add_edges(source={'pop_name': 'tON'}, target=cortex.nodes(),\n",
    "                   connection_rule=5,\n",
    "                   syn_weight=0.001,\n",
    "                   weight_function=adjusted_weight,\n",
    "                   delay=2.0,\n",
    "                   target_sections=['basal', 'apical'],\n",
    "                   distance_range=[0.0, 150.0],\n",
    "                   dynamics_params='AMPA_ExcToExc.json',\n",
    "                   model_template='exp2syn')\n",
    "```\n",
    "\n",
    "Then we write a custom weight function. The weight functions will be called during the simulation when building each synapse, and requires three parameters - target_cell, source_cell, and edge_props. These three parameters are dictionaries which can be used to access properties of the source node, target node, and edge, respectively. The function must return a floating point number which will be used to set the synaptic weight\n",
    "\n",
    "```python\n",
    "def adjusted_weights(target_cell, source_cell, edge_props):\n",
    "    if target_cell['cell_name'] == 'Scnn1a':\n",
    "        return edge_prop[\"weight_max\"]*0.5\n",
    "    elif target_cell['cell_name'] == 'Rorb'\n",
    "        return edge_prop[\"weight_max\"]*1.5\n",
    "    else:\n",
    "        ...\n",
    "```\n",
    "\n",
    "Finally we must tell BioNet where to access the function which we can do by using the add_weight_function.\n",
    "```python\n",
    "from bmtk.simulator import bionet\n",
    "\n",
    "bionet.nrn.add_weight_function(adjusted_weights)\n",
    "\n",
    "conf = bionet.Config.from_json('config.json')\n",
    "...\n",
    "```"
   ]
  },
  {
   "cell_type": "markdown",
   "metadata": {},
   "source": [
    "### Using NWB for spike trains\n",
    "\n",
    "Instead of using csv files to set the spike trains of our external network, we can also use nwb files. The typical setup would look like the following in the config file:\n",
    "\n",
    "```json\n",
    "\"inputs\": {\n",
    "    \"LGN_spikes\": {\n",
    "      \"input_type\": \"spikes\",\n",
    "      \"module\": \"nwb\",\n",
    "      \"input_file\": \"$INPUT_DIR/lgn_spikes.nwb\",\n",
    "      \"node_set\": \"lgn\",\n",
    "      \"trial\": \"trial_0\"\n",
    "    },\n",
    "}\n",
    "```\n",
    "\n",
    "Some example NWB files can be found at: LOCATION"
   ]
  },
  {
   "cell_type": "code",
   "execution_count": null,
   "metadata": {
    "collapsed": true
   },
   "outputs": [],
   "source": []
  }
 ],
 "metadata": {
  "anaconda-cloud": {},
  "kernelspec": {
   "display_name": "Python [conda env:bmtk-py27]",
   "language": "python",
   "name": "conda-env-bmtk-py27-py"
  },
  "language_info": {
   "codemirror_mode": {
    "name": "ipython",
    "version": 2
   },
   "file_extension": ".py",
   "mimetype": "text/x-python",
   "name": "python",
   "nbconvert_exporter": "python",
   "pygments_lexer": "ipython2",
   "version": "2.7.13"
  }
 },
 "nbformat": 4,
 "nbformat_minor": 2
}
