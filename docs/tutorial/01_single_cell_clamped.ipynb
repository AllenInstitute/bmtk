{
 "cells": [
  {
   "cell_type": "markdown",
   "metadata": {},
   "source": [
    "# Chapter 1: Single cell simulation with current injection (with BioNet)\n",
    "\n",
    "In this example we will build a network consisting of a single biophysically detailed cell. Then we will run a short simulation with a current injection into the soma of the cell, then look at the output in terms of spikes, membrane potential and calcium flux.\n",
    "\n",
    "IMAGE: single cell with zap\n",
    "\n",
    "**Note** - scripts and files for running this tutorial can be found in the directory [sources/chapter01/](sources/chapter01)\n",
    "\n",
    "requirements:\n",
    "* bmtk with python\n",
    "* NEURON 7.4+"
   ]
  },
  {
   "cell_type": "markdown",
   "metadata": {},
   "source": [
    "## 1. Building the network\n",
    "\n",
    "We will use the network builder to create and save the network. First we instantiate a network with a name or our choosing (since throughout this tutorial we will use cell models that from the mouse cortex, we will call our network 'mcortex'). \n",
    "\n",
    "Once we have a network, we can add a single node by calling the add_nodes method."
   ]
  },
  {
   "cell_type": "code",
   "execution_count": 1,
   "metadata": {
    "collapsed": false
   },
   "outputs": [],
   "source": [
    "from bmtk.builder.networks import NetworkBuilder\n",
    "\n",
    "net = NetworkBuilder('mcortex')\n",
    "net.add_nodes(cell_name='Scnn1a',\n",
    "              potental='exc',\n",
    "              level_of_detail='biophysical',\n",
    "              params_file='472363762_fit.json',\n",
    "              morphology_file='Scnn1a_473845048_m.swc',\n",
    "              set_params_function='Biophys1')"
   ]
  },
  {
   "cell_type": "markdown",
   "metadata": {},
   "source": [
    "Some of the parameters used to create the node are optional and only for our benefit. Others are necessary for when we will eventually run a simulation:\n",
    "* *cell_name* (optional) - Name/type of cell we will be modeling.\n",
    "* *potential* (optional) - Use to indicate that it is an excitatory type cell.\n",
    "* *level_of_detail* - Used by the simulator to indicate that we are using a biophysical cell.\n",
    "* *params_file* - Model parameters. File will be downloaded from the Allen Cell Types Database. \n",
    "* *morphology_file* - Model morphology. File will be downloaded from the Allen Cell Types Database.\n",
    "* *set_params_function* - A custom function used by the simulator to load the model into NEURON\n",
    " \n",
    "#### Building and saving\n",
    "The final thing to do is to build and save the network. If successful, we should see a combination of hdf5 and csv files in the './network' directory, these files are used describe the network, and can be saved, stored and run at a later date."
   ]
  },
  {
   "cell_type": "code",
   "execution_count": 2,
   "metadata": {
    "collapsed": true
   },
   "outputs": [],
   "source": [
    "net.build()\n",
    "net.save_nodes(output_dir='network')"
   ]
  },
  {
   "cell_type": "code",
   "execution_count": 3,
   "metadata": {
    "collapsed": false
   },
   "outputs": [
    {
     "name": "stdout",
     "output_type": "stream",
     "text": [
      "<bmtk.builder.node_pool.NodePool object at 0x7fc28993aa50>\n"
     ]
    }
   ],
   "source": [
    "print net.nodes()"
   ]
  },
  {
   "cell_type": "markdown",
   "metadata": {},
   "source": [
    "## 2. Setting up the simulator enviornment\n",
    "\n",
    "Now that the network has been built, we can use the BioNet simulator which will setup and run it using NEURON. We will need to set-up the paths to the configuration and parameters files. We can do this by either:\n",
    "1. Copying the directory tree from LOCATION into the current directory. Then compiling the extra NEURON mechanisms used by the Allen Cell Models by running the command \n",
    "```bash\n",
    "$ cd components/mechanism\n",
    "$ nrnivmodl modfiles\n",
    "```\n",
    "2. We can build the enviornment by scratch, which we can do from a command-line\n",
    "```bash\n",
    "$ python -m bmtk.utils.sim_setup -n network --cell-vars cai,v --cell-vars-nodes 0 --run-time 2000.0 bionet\n",
    "```\n",
    "   or alternatively just call the function"
   ]
  },
  {
   "cell_type": "code",
   "execution_count": 4,
   "metadata": {
    "collapsed": false
   },
   "outputs": [],
   "source": [
    "# from bmtk.utils.sim_setup import build_env_bionet\n",
    "# build_env_bionet(network_dir='network', cell_vars=['cai', 'v'], cell_vars_nodes=[0], run_time=2000.0)"
   ]
  },
  {
   "cell_type": "markdown",
   "metadata": {},
   "source": [
    "#### Set the model files\n",
    "The cell will be modeled from a V1, layer 4 Scnn1a mouse cell. Download the model file from http://celltypes.brain-map.org/neuronal_model/download/482934212, or by searching the Allen Cell-Types Database. We will need to unzip the downloaded package and move the parameters and morphology files into our simulator enviornment:\n",
    "* Rename *fit_parameters.json* to *472363762_fit.json* and place in ./components/biophysical/electrophysiology/\n",
    "* Rename *reconstruction.swc* to *Scnn1a_473845048_m.swc* and place in ./components/biophysical/morphologies/ "
   ]
  },
  {
   "cell_type": "code",
   "execution_count": 5,
   "metadata": {
    "collapsed": false
   },
   "outputs": [],
   "source": [
    "%%bash\n",
    "cp ../../files/components/biophysical/electrophysiology/472363762_fit.json components/biophysical/electrophysiology/\n",
    "cp ../../files/components/biophysical/morphology/Scnn1a_473845048_m.swc components/biophysical/morphology/"
   ]
  },
  {
   "cell_type": "markdown",
   "metadata": {},
   "source": [
    "#### Checking the config.json\n",
    "\n",
    "The file ./config.json is used to set network, run-time and output parameters during a simulation. In the prefered bmtk workflow the config file is used to update and adjust parameters on different simulations runs, eliminating the need for complicated programs and allows modelers and experimentalist to run their models with little-to-no programming required.\n",
    "\n",
    "More about the configuration file will be explained throughout the tutorials. However current what is missing is any input stimulus. Without it the simulation will run, but not do anything interesting. To add a current injection into the soma of our cell, we must open .config.json with a text editor and modify the **input** section to:\n",
    "```json\n",
    "\"input\": [\n",
    "    {\n",
    "      \"type\": \"iclamp\",\n",
    "      \"amp\" : 0.100,\n",
    "      \"del\" : 500.0,\n",
    "      \"dur\" : 1000.0\n",
    "    }\n",
    "],\n",
    "```\n",
    "\n",
    "This will inject a current (amp) of .1 mV with a delay of 500 ms and a duration of 1000 ms (i.e from times 500 - 1500 ms). \n"
   ]
  },
  {
   "cell_type": "markdown",
   "metadata": {},
   "source": [
    "## 3. Running the simulation\n",
    "\n",
    "Once our config file is setup we can run a simulation either through the command line:\n",
    "```bash\n",
    "$ python run_bionet.py config.json\n",
    "```\n",
    "\n",
    "or through the script"
   ]
  },
  {
   "cell_type": "code",
   "execution_count": 6,
   "metadata": {
    "collapsed": false
   },
   "outputs": [
    {
     "name": "stdout",
     "output_type": "stream",
     "text": [
      "Overwriting the output directory output:\n",
      "Created a log file -- on 2017/12/02 at 23:51:36\n",
      "Output directory: output -- t_wall: 0.853541 s\n",
      "Config file: /home/kael/workspace/Allen/bmtk/docs/tutorial/notebooks/tutorial_1/config.json -- t_wall: 0.853798 s\n",
      "Number of processors: 1  -- t_wall: 0.898436 s\n",
      "Setting up network... -- t_wall: 0.898782 s\n",
      "    Created morphologies -- t_wall: 0.973827 s\n",
      "    Set segment properties -- t_wall: 0.977907 s\n",
      "    Set segment coordinates -- t_wall: 1.058676 s\n",
      "    Setting up external cells... -- t_wall: 1.059224 s\n",
      "Cells are built! -- t_wall: 1.05947 s\n",
      "Initializing connections... -- t_wall: 1.059647 s\n",
      "    Setting connections from mcortex -- t_wall: 1.059908 s\n",
      "Network is built! -- t_wall: 1.060054 s\n",
      "Setting up recordings... -- t_wall: 1.060857 s\n",
      "    Will save time series of the ECP! -- t_wall: 1.06121 s\n",
      "    Will save time series of individual cells -- t_wall: 1.063069 s\n",
      "    Will save spikes -- t_wall: 1.06491 s\n",
      "Recordings are set! -- t_wall: 1.066341 s\n",
      "Running simulation until tstop: 2000.000 ms with the time step 0.100 ms -- t_wall: 1.066742 s\n",
      "Starting timestep: 0 at t_sim: 0.000 ms -- t_wall: 1.066944 s\n",
      "Block save every 5000 steps -- t_wall: 1.067107 s\n",
      "    step:5000 t_sim:500.000 ms -- t_wall: 1.255842 s\n",
      "    step:10000 t_sim:1000.000 ms -- t_wall: 1.413166 s\n",
      "    step:15000 t_sim:1500.000 ms -- t_wall: 1.568129 s\n",
      "    step:20000 t_sim:2000.000 ms -- t_wall: 1.721089 s\n",
      "Simulation completed in 0.6266 seconds  -- on 2017/12/02 at 23:51:37\n"
     ]
    }
   ],
   "source": [
    "import bmtk.simulator.bionet.config as config\n",
    "from bmtk.simulator.bionet import io, nrn\n",
    "from bmtk.simulator.bionet.simulation import Simulation\n",
    "from bmtk.simulator.bionet.biograph import BioGraph\n",
    "from bmtk.simulator.bionet.bionetwork import BioNetwork\n",
    "from bmtk.simulator.bionet.property_schemas import AIPropertySchema\n",
    "\n",
    "\n",
    "conf = config.from_json('config.json')\n",
    "io.setup_output_dir(conf)\n",
    "nrn.load_neuron_modules(conf)\n",
    "graph = BioGraph.from_config(conf, property_schema=AIPropertySchema)\n",
    "net = BioNetwork.from_config(conf, graph)\n",
    "sim = Simulation.from_config(conf, network=net)\n",
    "sim.run()\n"
   ]
  },
  {
   "cell_type": "markdown",
   "metadata": {},
   "source": [
    "A quick breakdown of the script:\n",
    "```python\n",
    "conf = config.from_json('config.json')\n",
    "io.setup_output_dir(conf)\n",
    "nrn.load_neuron_modules(conf)\n",
    "```\n",
    "This section loads the configuration file, it setups the output directory and files for writing during the simulation, and loads NEURON mechanisms needed by the cell model(s) during the simulation.\n",
    "\n",
    "```python\n",
    "graph = BioGraph.from_config(conf, property_schema=AIPropertySchema)\n",
    "```\n",
    "Creating a BioGraph function will convert the network files created by The Builder to a graph structure.\n",
    "\n",
    "```python\n",
    "net = BioNetwork.from_config(conf, graph)\n",
    "```\n",
    "Creates a NEURON representation of the network, including cell models that have been converted into their NEURON equivelents.\n",
    "\n",
    "```python\n",
    "sim = Simulation.from_config(conf, network=net)\n",
    "sim.run()\n",
    "```\n",
    "Sets up and runs the NEURON simulation. When finished the output - spike times, membrane potential and Calcium influx, will be saved into the output directory as specified in the config.\n",
    "\n"
   ]
  },
  {
   "cell_type": "markdown",
   "metadata": {},
   "source": [
    "## 4. Analyzing the run\n",
    "\n",
    "The results of the simulation are placed into various files as specified in the \"output\" section of the config file. We can change this before run-time if required.\n",
    "\n",
    "All simulations will save the spike times of the network cells. These are saved in csv format (output/spikes.txt) or hdf5 format(output/spikes.h5). To get the table of spike times for our single-cell network we can run the following method from the analyzer (gid 0 corresponds to our single cell)."
   ]
  },
  {
   "cell_type": "code",
   "execution_count": 9,
   "metadata": {
    "collapsed": false
   },
   "outputs": [
    {
     "data": {
      "text/html": [
       "<div>\n",
       "<style>\n",
       "    .dataframe thead tr:only-child th {\n",
       "        text-align: right;\n",
       "    }\n",
       "\n",
       "    .dataframe thead th {\n",
       "        text-align: left;\n",
       "    }\n",
       "\n",
       "    .dataframe tbody tr th {\n",
       "        vertical-align: top;\n",
       "    }\n",
       "</style>\n",
       "<table border=\"1\" class=\"dataframe\">\n",
       "  <thead>\n",
       "    <tr style=\"text-align: right;\">\n",
       "      <th></th>\n",
       "      <th>time (ms)</th>\n",
       "      <th>cell gid</th>\n",
       "    </tr>\n",
       "  </thead>\n",
       "  <tbody>\n",
       "    <tr>\n",
       "      <th>0</th>\n",
       "      <td>579.9</td>\n",
       "      <td>0</td>\n",
       "    </tr>\n",
       "    <tr>\n",
       "      <th>1</th>\n",
       "      <td>633.7</td>\n",
       "      <td>0</td>\n",
       "    </tr>\n",
       "    <tr>\n",
       "      <th>2</th>\n",
       "      <td>691.4</td>\n",
       "      <td>0</td>\n",
       "    </tr>\n",
       "    <tr>\n",
       "      <th>3</th>\n",
       "      <td>757.2</td>\n",
       "      <td>0</td>\n",
       "    </tr>\n",
       "    <tr>\n",
       "      <th>4</th>\n",
       "      <td>833.9</td>\n",
       "      <td>0</td>\n",
       "    </tr>\n",
       "    <tr>\n",
       "      <th>5</th>\n",
       "      <td>922.0</td>\n",
       "      <td>0</td>\n",
       "    </tr>\n",
       "    <tr>\n",
       "      <th>6</th>\n",
       "      <td>1019.3</td>\n",
       "      <td>0</td>\n",
       "    </tr>\n",
       "    <tr>\n",
       "      <th>7</th>\n",
       "      <td>1123.0</td>\n",
       "      <td>0</td>\n",
       "    </tr>\n",
       "    <tr>\n",
       "      <th>8</th>\n",
       "      <td>1230.5</td>\n",
       "      <td>0</td>\n",
       "    </tr>\n",
       "    <tr>\n",
       "      <th>9</th>\n",
       "      <td>1340.2</td>\n",
       "      <td>0</td>\n",
       "    </tr>\n",
       "    <tr>\n",
       "      <th>10</th>\n",
       "      <td>1451.0</td>\n",
       "      <td>0</td>\n",
       "    </tr>\n",
       "  </tbody>\n",
       "</table>\n",
       "</div>"
      ],
      "text/plain": [
       "    time (ms)  cell gid\n",
       "0       579.9         0\n",
       "1       633.7         0\n",
       "2       691.4         0\n",
       "3       757.2         0\n",
       "4       833.9         0\n",
       "5       922.0         0\n",
       "6      1019.3         0\n",
       "7      1123.0         0\n",
       "8      1230.5         0\n",
       "9      1340.2         0\n",
       "10     1451.0         0"
      ]
     },
     "execution_count": 9,
     "metadata": {},
     "output_type": "execute_result"
    }
   ],
   "source": [
    "from bmtk.analyzer import spikes_table\n",
    "spikes_table(config_file='config.json')"
   ]
  },
  {
   "cell_type": "markdown",
   "metadata": {},
   "source": [
    "When setting up the enviornment and config file we specified cell_vars=['v', 'cai']. This indicates to the simulator to also record membrane potential and calcium diffusion (and we can also specify other variables as long as they are supported in NEURON). The recordings are stored in hdf5 format in the file output/cellvars/0.h5 (0 for the gid of our first and only cell)."
   ]
  },
  {
   "cell_type": "code",
   "execution_count": 10,
   "metadata": {
    "collapsed": false
   },
   "outputs": [
    {
     "data": {
      "image/png": "[encoded data removed]",
      "text/plain": [
       "<matplotlib.figure.Figure at 0x7fc280feafd0>"
      ]
     },
     "metadata": {},
     "output_type": "display_data"
    },
    {
     "data": {
      "image/png": "[encoded data removed]",
      "text/plain": [
       "<matplotlib.figure.Figure at 0x7fc280e366d0>"
      ]
     },
     "metadata": {},
     "output_type": "display_data"
    }
   ],
   "source": [
    "from bmtk.analyzer import plot_potential, plot_calcium\n",
    "\n",
    "plot_potential(config_file='config.json')\n",
    "plot_calcium(config_file='config.json')"
   ]
  },
  {
   "cell_type": "markdown",
   "metadata": {},
   "source": [
    "## 5. Additional Information\n",
    "\n",
    "### Changing run-time parameters.\n",
    "By making changes to the config file, we can change the conditions and simulation parameters without having to rebuild the network, modify paramter files, and changing our run_bionet script. In fact we can iteratively run multiple simulations without any extra coding, only a text editor to change the json file.\n",
    "\n",
    "The run section of the config.json contains most of the parameters unique to the simulation:\n",
    "```json\n",
    "\"run\": {\n",
    "    \"dL\": 20, \n",
    "    \"calc_ecp\": false, \n",
    "    \"nsteps_block\": 5000, \n",
    "    \"spike_threshold\": -15, \n",
    "    \"overwrite_output_dir\": true, \n",
    "    \"save_cell_vars\": [\"cai\", \"v\"], \n",
    "    \"tstop\": 2000.0, \n",
    "    \"dt\": 0.1\n",
    "}\n",
    "```\n",
    "* dstop - simulation runtime in milliseconds.\n",
    "* dt - the time steps of the simulation. decreasing dt should increasing accuracy of firing dynamics, but also increase time it takes to complete.\n",
    "* spike_thresdhold - used to determine when to count a action potential\n",
    "* save_cell_vars - indicate cell variables that will be recorded (in this case calcium diffusion and membrane potential). \n",
    "\n",
    "Through the conditions section we can adjust simulation temperature (C) and the initial membrane potential of the cells:\n",
    "```json\n",
    "\"conditions\": {\n",
    "    \"celsius\": 34.0, \n",
    "    \"v_init\": -80\n",
    "}\n",
    "```\n",
    "\n",
    "And lastly, the input section lets us control stimulus onto the network. There are a number of different options which will be explained in the following tutorials. But even with a simple current injection we can adjust amplitude, delay and stimulation duration and measure the effect on the cell.\n",
    "```json\n",
    "\"input\": [\n",
    "    {\n",
    "        \"amp\": 0.1, \n",
    "        \"dur\": 1000.0, \n",
    "        \"del\": 500.0, \n",
    "        \"type\": \"iclamp\"\n",
    "    }\n",
    "]\n",
    "```\n",
    "We can even add multiple injections\n",
    "```json\n",
    "\"input\": [\n",
    "    {\n",
    "        \"type\": \"iclamp\",\n",
    "        \"amp\": 0.150, \n",
    "        \"del\": 0.0, \n",
    "        \"dur\": 400.0, \n",
    "    },\n",
    "    {\n",
    "        \"type\": \"iclamp\",\n",
    "        \"amp\": 0.300, \n",
    "        \"del\": 0.500, \n",
    "        \"dur\": 400.0, \n",
    "    },\n",
    "    {\n",
    "        \"type\": \"iclamp\",\n",
    "        \"amp\": 0.450, \n",
    "        \"del\": 0.1000, \n",
    "        \"dur\": 400.0, \n",
    "    }\n",
    "]\n",
    "```"
   ]
  },
  {
   "cell_type": "markdown",
   "metadata": {},
   "source": [
    "### Changing cell models\n",
    "When building the network we defined the cell model and morphology through the 'params_file' and 'morphology_file' options. After building and saving the network, these values were saved in the node-types csv file."
   ]
  },
  {
   "cell_type": "code",
   "execution_count": 11,
   "metadata": {
    "collapsed": false
   },
   "outputs": [
    {
     "data": {
      "text/html": [
       "<div>\n",
       "<style>\n",
       "    .dataframe thead tr:only-child th {\n",
       "        text-align: right;\n",
       "    }\n",
       "\n",
       "    .dataframe thead th {\n",
       "        text-align: left;\n",
       "    }\n",
       "\n",
       "    .dataframe tbody tr th {\n",
       "        vertical-align: top;\n",
       "    }\n",
       "</style>\n",
       "<table border=\"1\" class=\"dataframe\">\n",
       "  <thead>\n",
       "    <tr style=\"text-align: right;\">\n",
       "      <th></th>\n",
       "      <th>node_type_id</th>\n",
       "      <th>morphology_file</th>\n",
       "      <th>level_of_detail</th>\n",
       "      <th>params_file</th>\n",
       "      <th>potental</th>\n",
       "      <th>set_params_function</th>\n",
       "      <th>cell_name</th>\n",
       "    </tr>\n",
       "  </thead>\n",
       "  <tbody>\n",
       "    <tr>\n",
       "      <th>0</th>\n",
       "      <td>100</td>\n",
       "      <td>Scnn1a_473845048_m.swc</td>\n",
       "      <td>biophysical</td>\n",
       "      <td>472363762_fit.json</td>\n",
       "      <td>exc</td>\n",
       "      <td>Biophys1</td>\n",
       "      <td>Scnn1a</td>\n",
       "    </tr>\n",
       "  </tbody>\n",
       "</table>\n",
       "</div>"
      ],
      "text/plain": [
       "   node_type_id         morphology_file level_of_detail         params_file  \\\n",
       "0           100  Scnn1a_473845048_m.swc     biophysical  472363762_fit.json   \n",
       "\n",
       "  potental set_params_function cell_name  \n",
       "0      exc            Biophys1    Scnn1a  "
      ]
     },
     "execution_count": 11,
     "metadata": {},
     "output_type": "execute_result"
    }
   ],
   "source": [
    "import pandas as pd\n",
    "pd.read_csv('network/mcortex_node_types.csv', sep=' ')"
   ]
  },
  {
   "cell_type": "markdown",
   "metadata": {},
   "source": [
    "If we want to run the simulation on a different cell model, all we have to do is \n",
    "1. Download new parameters.json and morphology.swc into components/biophysical\n",
    "2. Open mcortex_node_types.csv in a text editor and update 'morphology_file' and 'params_file' accordingly.\n",
    "\n",
    "In our simple one-cell example, it is likely faster to just rebuild the network. However the advantage of the use of the node types becomes clear once we start dealing with a larger network. For example we may have a network of hundreds of thousands of individual cells with tens of thousands of Scnn1a type cells. The process of adjusting/chaning the Scnn1a parameter in the csv then starting another simulation only takes seconds, whereas rebuilding the entire network may take hours."
   ]
  },
  {
   "cell_type": "code",
   "execution_count": null,
   "metadata": {
    "collapsed": true
   },
   "outputs": [],
   "source": []
  }
 ],
 "metadata": {
  "anaconda-cloud": {},
  "kernelspec": {
   "display_name": "Python [conda env:bmtk-py27]",
   "language": "python",
   "name": "conda-env-bmtk-py27-py"
  },
  "language_info": {
   "codemirror_mode": {
    "name": "ipython",
    "version": 2
   },
   "file_extension": ".py",
   "mimetype": "text/x-python",
   "name": "python",
   "nbconvert_exporter": "python",
   "pygments_lexer": "ipython2",
   "version": "2.7.13"
  }
 },
 "nbformat": 4,
 "nbformat_minor": 2
}
